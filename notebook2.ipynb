{
 "cells": [
  {
   "cell_type": "markdown",
   "id": "ae1fc867-af8f-4bdf-a5c2-dd0a4e1b1054",
   "metadata": {},
   "source": [
    "# Another notebook doing some computation\n",
    "This notebook operates on `{{variable_id}}`."
   ]
  },
  {
   "cell_type": "code",
   "execution_count": 1,
   "id": "12644240-1dde-4f70-ad3d-68e1ffc25761",
   "metadata": {
    "tags": [
     "parameters"
    ]
   },
   "outputs": [],
   "source": [
    "variable_id = 'TEMP'"
   ]
  },
  {
   "cell_type": "code",
   "execution_count": null,
   "id": "ac499e13-4dac-479f-b48f-71f650012cb1",
   "metadata": {},
   "outputs": [],
   "source": [
    "print(variable_id)"
   ]
  }
 ],
 "metadata": {
  "kernelspec": {
   "display_name": "Python [conda env:miniconda3-sno]",
   "language": "python",
   "name": "conda-env-miniconda3-sno-py"
  },
  "language_info": {
   "codemirror_mode": {
    "name": "ipython",
    "version": 3
   },
   "file_extension": ".py",
   "mimetype": "text/x-python",
   "name": "python",
   "nbconvert_exporter": "python",
   "pygments_lexer": "ipython3",
   "version": "3.7.11"
  }
 },
 "nbformat": 4,
 "nbformat_minor": 5
}
