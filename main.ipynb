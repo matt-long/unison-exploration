{
 "cells": [
  {
   "cell_type": "code",
   "execution_count": 1,
   "id": "40a88a54-c7a7-44fc-b9ff-f931e42ac421",
   "metadata": {},
   "outputs": [],
   "source": [
    "import os\n",
    "from glob import glob\n",
    "import yaml\n",
    "\n",
    "from jinja2 import Template\n",
    "\n",
    "import nbformat as nbf\n",
    "import papermill as pm"
   ]
  },
  {
   "cell_type": "code",
   "execution_count": 2,
   "id": "130a72c0-9b91-4625-9f21-570c4b831baa",
   "metadata": {},
   "outputs": [
    {
     "data": {
      "text/plain": [
       "['PapermillException',\n",
       " 'PapermillExecutionError',\n",
       " '__builtins__',\n",
       " '__cached__',\n",
       " '__doc__',\n",
       " '__file__',\n",
       " '__loader__',\n",
       " '__name__',\n",
       " '__package__',\n",
       " '__path__',\n",
       " '__spec__',\n",
       " '__version__',\n",
       " 'clientwrap',\n",
       " 'engines',\n",
       " 'exceptions',\n",
       " 'execute',\n",
       " 'execute_notebook',\n",
       " 'inspect_notebook',\n",
       " 'inspection',\n",
       " 'iorw',\n",
       " 'log',\n",
       " 'models',\n",
       " 'parameterize',\n",
       " 'translators',\n",
       " 'utils',\n",
       " 'version']"
      ]
     },
     "execution_count": 2,
     "metadata": {},
     "output_type": "execute_result"
    }
   ],
   "source": [
    "dir(pm)"
   ]
  },
  {
   "cell_type": "code",
   "execution_count": 3,
   "id": "757ff923-f88a-4df4-b53c-502f9984e55b",
   "metadata": {},
   "outputs": [
    {
     "data": {
      "text/plain": [
       "['__class__',\n",
       " '__delattr__',\n",
       " '__dict__',\n",
       " '__dir__',\n",
       " '__doc__',\n",
       " '__eq__',\n",
       " '__format__',\n",
       " '__ge__',\n",
       " '__getattribute__',\n",
       " '__gt__',\n",
       " '__hash__',\n",
       " '__init__',\n",
       " '__init_subclass__',\n",
       " '__le__',\n",
       " '__lt__',\n",
       " '__module__',\n",
       " '__ne__',\n",
       " '__new__',\n",
       " '__reduce__',\n",
       " '__reduce_ex__',\n",
       " '__repr__',\n",
       " '__setattr__',\n",
       " '__sizeof__',\n",
       " '__str__',\n",
       " '__subclasshook__',\n",
       " '__weakref__',\n",
       " 'execute_notebook_with_engine',\n",
       " 'get_engine',\n",
       " 'register',\n",
       " 'register_entry_points']"
      ]
     },
     "execution_count": 3,
     "metadata": {},
     "output_type": "execute_result"
    }
   ],
   "source": [
    "engines = pm.engines.PapermillEngines\n",
    "dir(engines) #.register(engines, 'md_jinja', CustomEngine)"
   ]
  },
  {
   "cell_type": "code",
   "execution_count": 4,
   "id": "4774c8c6-ee12-48a5-96de-5d8e6e722ec6",
   "metadata": {},
   "outputs": [
    {
     "data": {
      "text/plain": [
       "['Engine',\n",
       " 'NBClientEngine',\n",
       " 'NotebookExecutionManager',\n",
       " 'PapermillEngines',\n",
       " 'PapermillException',\n",
       " 'PapermillNotebookClient',\n",
       " '__builtins__',\n",
       " '__cached__',\n",
       " '__doc__',\n",
       " '__file__',\n",
       " '__loader__',\n",
       " '__name__',\n",
       " '__package__',\n",
       " '__spec__',\n",
       " 'catch_nb_assignment',\n",
       " 'copy',\n",
       " 'datetime',\n",
       " 'dateutil',\n",
       " 'entrypoints',\n",
       " 'logger',\n",
       " 'merge_kwargs',\n",
       " 'papermill_engines',\n",
       " 'remove_args',\n",
       " 'sys',\n",
       " 'wraps',\n",
       " 'write_ipynb']"
      ]
     },
     "execution_count": 4,
     "metadata": {},
     "output_type": "execute_result"
    }
   ],
   "source": [
    "dir(pm.engines)"
   ]
  },
  {
   "cell_type": "code",
   "execution_count": null,
   "id": "77dad797-8b9e-40ee-a83f-75eccc3fc985",
   "metadata": {},
   "outputs": [],
   "source": []
  },
  {
   "cell_type": "code",
   "execution_count": 21,
   "id": "2aca6400-bd3b-4518-b4cf-8f27363e619d",
   "metadata": {},
   "outputs": [
    {
     "data": {
      "text/plain": [
       "{None: papermill.engines.NBClientEngine,\n",
       " 'nbclient': papermill.engines.NBClientEngine,\n",
       " 'md_jinja': __main__.CustomEngine}"
      ]
     },
     "execution_count": 21,
     "metadata": {},
     "output_type": "execute_result"
    }
   ],
   "source": [
    "from datetime import datetime\n",
    "from papermill.engines import NBClientEngine\n",
    "from nbformat.v4 import new_output\n",
    "\n",
    "class CustomEngine(NBClientEngine):\n",
    "\n",
    "    @classmethod\n",
    "    def execute_managed_notebook(cls, nb_man, kernel_name, **kwargs):\n",
    "        jinja_data = {} if 'jinja_data' not in kwargs else kwargs['jinja_data']\n",
    "            \n",
    "        # call the papermill execution engine:\n",
    "        super().execute_managed_notebook(nb_man, kernel_name, **kwargs)\n",
    "\n",
    "        for cell in nb_man.nb.cells:\n",
    "            if cell.cell_type == 'markdown':\n",
    "                cell['source'] = Template(cell['source']).render(**jinja_data)\n",
    "                \n",
    "# what's the right way to register an engine out?\n",
    "pm.engines.papermill_engines._engines['md_jinja'] = CustomEngine\n",
    "pm.engines.papermill_engines._engines"
   ]
  },
  {
   "cell_type": "code",
   "execution_count": 22,
   "id": "aa4a2b2b-b2d7-4048-8a04-513909939bd6",
   "metadata": {},
   "outputs": [
    {
     "data": {
      "text/plain": [
       "{'output_dir': './output',\n",
       " 'kernel_name': 'metabolic',\n",
       " 'notebooks': {'hello-world': {'parameter_groups': {'a=10_b=1': {'a': 10,\n",
       "     'b': 1}}},\n",
       "  'notebook2': {'kernel_name': 'sno',\n",
       "   'parameter_groups': {'temperature': {'variable_id': 'TEMP'},\n",
       "    'salinity': {'variable_id': 'SALT'},\n",
       "    'oxygen': {'variable_id': 'O2'}}}}}"
      ]
     },
     "execution_count": 22,
     "metadata": {},
     "output_type": "execute_result"
    }
   ],
   "source": [
    "control = yaml.safe_load(\n",
    "    \"\"\"\n",
    "output_dir: ./output\n",
    "kernel_name: metabolic\n",
    "notebooks:\n",
    "    hello-world:\n",
    "      parameter_groups:\n",
    "        a=10_b=1:\n",
    "          a: 10\n",
    "          b: 1\n",
    "    notebook2:\n",
    "      kernel_name: sno\n",
    "      parameter_groups:\n",
    "        temperature:\n",
    "          variable_id: TEMP\n",
    "        salinity:\n",
    "          variable_id: SALT\n",
    "        oxygen:\n",
    "          variable_id: O2\n",
    "    \"\"\")\n",
    "control"
   ]
  },
  {
   "cell_type": "code",
   "execution_count": 23,
   "id": "8d2c274e-a576-4f18-8a04-f24631c54508",
   "metadata": {},
   "outputs": [],
   "source": [
    "output_dir = \".\" if 'output_dir' not in control else control[\"output_dir\"]\n",
    "os.makedirs(output_dir, exist_ok=True)\n",
    "\n",
    "if 'kernel_name' in control:\n",
    "    for d in control['notebooks'].values():\n",
    "        if 'kernel_name' not in d:\n",
    "            d['kernel_name'] = control['kernel_name']"
   ]
  },
  {
   "cell_type": "code",
   "execution_count": 24,
   "id": "cfe575a2-0c6f-4547-b5b0-4c7c8c882008",
   "metadata": {},
   "outputs": [],
   "source": [
    "files = glob(f\"{output_dir}/*.ipynb\")\n",
    "for f in files:\n",
    "    os.remove(f)"
   ]
  },
  {
   "cell_type": "code",
   "execution_count": 25,
   "id": "58d70fc0-9429-434e-a6a8-31c67e429a9e",
   "metadata": {},
   "outputs": [
    {
     "data": {
      "application/vnd.jupyter.widget-view+json": {
       "model_id": "5912935a63244e2cbebe83635ed43a82",
       "version_major": 2,
       "version_minor": 0
      },
      "text/plain": [
       "Executing:   0%|          | 0/8 [00:00<?, ?cell/s]"
      ]
     },
     "metadata": {},
     "output_type": "display_data"
    },
    {
     "data": {
      "application/vnd.jupyter.widget-view+json": {
       "model_id": "19d6f9e2842f4d49a9c462c9a854187d",
       "version_major": 2,
       "version_minor": 0
      },
      "text/plain": [
       "Executing:   0%|          | 0/4 [00:00<?, ?cell/s]"
      ]
     },
     "metadata": {},
     "output_type": "display_data"
    },
    {
     "data": {
      "application/vnd.jupyter.widget-view+json": {
       "model_id": "2eee5ccdfcc9492fb57ec70f72594540",
       "version_major": 2,
       "version_minor": 0
      },
      "text/plain": [
       "Executing:   0%|          | 0/4 [00:00<?, ?cell/s]"
      ]
     },
     "metadata": {},
     "output_type": "display_data"
    },
    {
     "data": {
      "application/vnd.jupyter.widget-view+json": {
       "model_id": "5fc0e09223b846d5a5e4f30341b3bf7d",
       "version_major": 2,
       "version_minor": 0
      },
      "text/plain": [
       "Executing:   0%|          | 0/4 [00:00<?, ?cell/s]"
      ]
     },
     "metadata": {},
     "output_type": "display_data"
    }
   ],
   "source": [
    "\n",
    "for nb, info in control['notebooks'].items():\n",
    "    for key, parms in info['parameter_groups'].items():\n",
    "        \n",
    "        input_path = f'{nb}.ipynb'        \n",
    "        output_path = f'{output_dir}/{nb}-{key}.ipynb'\n",
    "        \n",
    "        o = pm.execute_notebook(\n",
    "            input_path=input_path,\n",
    "            output_path=output_path,\n",
    "            kernel_name=info['kernel_name'],\n",
    "            parameters=parms,\n",
    "            engine_name='md_jinja',\n",
    "            jinja_data=parms,\n",
    "        )"
   ]
  },
  {
   "cell_type": "code",
   "execution_count": null,
   "id": "d7575e98-0164-4f4f-912d-6b6dd70d3561",
   "metadata": {},
   "outputs": [],
   "source": []
  }
 ],
 "metadata": {
  "kernelspec": {
   "display_name": "Python [conda env:miniconda3-metabolic]",
   "language": "python",
   "name": "conda-env-miniconda3-metabolic-py"
  },
  "language_info": {
   "codemirror_mode": {
    "name": "ipython",
    "version": 3
   },
   "file_extension": ".py",
   "mimetype": "text/x-python",
   "name": "python",
   "nbconvert_exporter": "python",
   "pygments_lexer": "ipython3",
   "version": "3.7.12"
  }
 },
 "nbformat": 4,
 "nbformat_minor": 5
}
