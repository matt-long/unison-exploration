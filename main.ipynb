{
 "cells": [
  {
   "cell_type": "code",
   "execution_count": 88,
   "id": "40a88a54-c7a7-44fc-b9ff-f931e42ac421",
   "metadata": {},
   "outputs": [],
   "source": [
    "import os\n",
    "from glob import glob\n",
    "import yaml\n",
    "\n",
    "from jinja2 import Template\n",
    "\n",
    "import nbformat as nbf\n",
    "import papermill as pm"
   ]
  },
  {
   "cell_type": "code",
   "execution_count": 99,
   "id": "2aca6400-bd3b-4518-b4cf-8f27363e619d",
   "metadata": {},
   "outputs": [],
   "source": [
    "def modify_markdown_header(input_path, output_path, **kwargs):\n",
    "    notebook = nbf.read(input_path, nbf.NO_CONVERT)\n",
    "    cells = []\n",
    "    for cell in notebook.cells:\n",
    "        if cell.cell_type == 'markdown':\n",
    "            print(cell['source'])\n",
    "            new_value = Template(cell['source']).render(**kwargs)\n",
    "            cell['source'] = new_value\n",
    "            print(new_value)\n",
    "            print()\n",
    "        cells.append(cell)\n",
    "    notebook.cells = cells\n",
    "    nbf.write(notebook, output_path, version=nbf.NO_CONVERT)"
   ]
  },
  {
   "cell_type": "code",
   "execution_count": 100,
   "id": "aa4a2b2b-b2d7-4048-8a04-513909939bd6",
   "metadata": {},
   "outputs": [
    {
     "data": {
      "text/plain": [
       "{'output_dir': './output',\n",
       " 'kernel_name': 'metabolic',\n",
       " 'notebooks': {'hello-world': {'parameter_groups': {'a=10_b=1': {'a': 10,\n",
       "     'b': 1}}},\n",
       "  'notebook2': {'kernel_name': 'sno',\n",
       "   'parameter_groups': {'temperature': {'variable_id': 'TEMP'},\n",
       "    'salinity': {'variable_id': 'SALT'},\n",
       "    'oxygen': {'variable_id': 'O2'}}}}}"
      ]
     },
     "execution_count": 100,
     "metadata": {},
     "output_type": "execute_result"
    }
   ],
   "source": [
    "control = yaml.safe_load(\n",
    "    \"\"\"\n",
    "output_dir: ./output\n",
    "kernel_name: metabolic\n",
    "notebooks:\n",
    "    hello-world:\n",
    "      parameter_groups:\n",
    "        a=10_b=1:\n",
    "          a: 10\n",
    "          b: 1\n",
    "    notebook2:\n",
    "      kernel_name: sno\n",
    "      parameter_groups:\n",
    "        temperature:\n",
    "          variable_id: TEMP\n",
    "        salinity:\n",
    "          variable_id: SALT\n",
    "        oxygen:\n",
    "          variable_id: O2\n",
    "    \"\"\")\n",
    "control"
   ]
  },
  {
   "cell_type": "code",
   "execution_count": 101,
   "id": "8d2c274e-a576-4f18-8a04-f24631c54508",
   "metadata": {},
   "outputs": [],
   "source": [
    "output_dir = \".\" if 'output_dir' not in control else control[\"output_dir\"]\n",
    "os.makedirs(output_dir, exist_ok=True)\n",
    "\n",
    "if 'kernel_name' in control:\n",
    "    for d in control['notebooks'].values():\n",
    "        if 'kernel_name' not in d:\n",
    "            d['kernel_name'] = control['kernel_name']"
   ]
  },
  {
   "cell_type": "code",
   "execution_count": 102,
   "id": "cfe575a2-0c6f-4547-b5b0-4c7c8c882008",
   "metadata": {},
   "outputs": [],
   "source": [
    "files = glob(f\"{output_dir}/*.ipynb\")\n",
    "for f in files:\n",
    "    os.remove(f)"
   ]
  },
  {
   "cell_type": "code",
   "execution_count": 104,
   "id": "58d70fc0-9429-434e-a6a8-31c67e429a9e",
   "metadata": {},
   "outputs": [
    {
     "data": {
      "application/vnd.jupyter.widget-view+json": {
       "model_id": "dffa00c746b54bbdb7cbf4c7b1365024",
       "version_major": 2,
       "version_minor": 0
      },
      "text/plain": [
       "Executing:   0%|          | 0/8 [00:00<?, ?cell/s]"
      ]
     },
     "metadata": {},
     "output_type": "display_data"
    },
    {
     "name": "stdout",
     "output_type": "stream",
     "text": [
      "# Title\n",
      "\n",
      "This notebooks explores the implications of of a = {{a}} and b = {{b}}\n",
      "# Title\n",
      "\n",
      "This notebooks explores the implications of of a = 10 and b = 1\n",
      "\n",
      "Now compute a function using parameters a = {{a}} and b = {{b}}.\n",
      "Now compute a function using parameters a = 10 and b = 1.\n",
      "\n"
     ]
    },
    {
     "data": {
      "application/vnd.jupyter.widget-view+json": {
       "model_id": "8a7338c5d123458ba9d21f9f8de32a84",
       "version_major": 2,
       "version_minor": 0
      },
      "text/plain": [
       "Executing:   0%|          | 0/4 [00:00<?, ?cell/s]"
      ]
     },
     "metadata": {},
     "output_type": "display_data"
    },
    {
     "name": "stdout",
     "output_type": "stream",
     "text": [
      "# Another notebook doing some computation\n",
      "This notebook operates on `{{variable_id}}`.\n",
      "# Another notebook doing some computation\n",
      "This notebook operates on `TEMP`.\n",
      "\n"
     ]
    },
    {
     "data": {
      "application/vnd.jupyter.widget-view+json": {
       "model_id": "0bcdc1054b3843afa89862af3d3ef50c",
       "version_major": 2,
       "version_minor": 0
      },
      "text/plain": [
       "Executing:   0%|          | 0/4 [00:00<?, ?cell/s]"
      ]
     },
     "metadata": {},
     "output_type": "display_data"
    },
    {
     "name": "stdout",
     "output_type": "stream",
     "text": [
      "# Another notebook doing some computation\n",
      "This notebook operates on `{{variable_id}}`.\n",
      "# Another notebook doing some computation\n",
      "This notebook operates on `SALT`.\n",
      "\n"
     ]
    },
    {
     "data": {
      "application/vnd.jupyter.widget-view+json": {
       "model_id": "3509dd28fc6c4261be6e2d6c381d0b48",
       "version_major": 2,
       "version_minor": 0
      },
      "text/plain": [
       "Executing:   0%|          | 0/4 [00:00<?, ?cell/s]"
      ]
     },
     "metadata": {},
     "output_type": "display_data"
    },
    {
     "name": "stdout",
     "output_type": "stream",
     "text": [
      "# Another notebook doing some computation\n",
      "This notebook operates on `{{variable_id}}`.\n",
      "# Another notebook doing some computation\n",
      "This notebook operates on `O2`.\n",
      "\n"
     ]
    }
   ],
   "source": [
    "\n",
    "for nb, info in control['notebooks'].items():\n",
    "    for key, parms in info['parameter_groups'].items():\n",
    "        \n",
    "        input_path = f'{nb}.ipynb'        \n",
    "        output_path = f'{output_dir}/{nb}-{key}.ipynb'\n",
    "        \n",
    "        o = pm.execute_notebook(\n",
    "            input_path=input_path,\n",
    "            output_path=output_path,\n",
    "            kernel_name=info['kernel_name'],\n",
    "            parameters=parms,\n",
    "        )\n",
    "        modify_markdown_header(output_path, output_path, **parms)"
   ]
  },
  {
   "cell_type": "code",
   "execution_count": null,
   "id": "d7575e98-0164-4f4f-912d-6b6dd70d3561",
   "metadata": {},
   "outputs": [],
   "source": []
  }
 ],
 "metadata": {
  "kernelspec": {
   "display_name": "Python [conda env:miniconda3-metabolic]",
   "language": "python",
   "name": "conda-env-miniconda3-metabolic-py"
  },
  "language_info": {
   "codemirror_mode": {
    "name": "ipython",
    "version": 3
   },
   "file_extension": ".py",
   "mimetype": "text/x-python",
   "name": "python",
   "nbconvert_exporter": "python",
   "pygments_lexer": "ipython3",
   "version": "3.7.12"
  }
 },
 "nbformat": 4,
 "nbformat_minor": 5
}
