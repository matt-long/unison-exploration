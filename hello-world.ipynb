{
 "cells": [
  {
   "cell_type": "markdown",
   "id": "13b9e33b-3326-4f5f-bb3e-225c7e900d6c",
   "metadata": {},
   "source": [
    "# Title\n",
    "\n",
    "This notebooks explores the implications of of a = {{a}} and b = {{b}}"
   ]
  },
  {
   "cell_type": "code",
   "execution_count": 2,
   "id": "fc39e283-94f7-4712-a102-64a80f7a187f",
   "metadata": {},
   "outputs": [],
   "source": [
    "import numpy as np\n",
    "import xarray as xr\n",
    "import matplotlib.pyplot as plt"
   ]
  },
  {
   "cell_type": "code",
   "execution_count": null,
   "id": "15fb7ef3-abfa-4687-b1c1-63075a3199f6",
   "metadata": {},
   "outputs": [],
   "source": [
    "print('hello world!')"
   ]
  },
  {
   "cell_type": "markdown",
   "id": "cd28bd81-8fd0-497e-a91b-17a411ae9d75",
   "metadata": {},
   "source": [
    "Now compute a function using parameters a = {{a}} and b = {{b}}."
   ]
  },
  {
   "cell_type": "code",
   "execution_count": 5,
   "id": "873462b8-8013-47c1-a69e-c87efe3e0c2c",
   "metadata": {
    "tags": [
     "parameters"
    ]
   },
   "outputs": [],
   "source": [
    "a = 10\n",
    "b = 0.75"
   ]
  },
  {
   "cell_type": "code",
   "execution_count": 8,
   "id": "b991f86b-4158-464f-a305-09adce3a5d2f",
   "metadata": {},
   "outputs": [
    {
     "data": {
      "image/png": "[encoded data removed]",
      "text/plain": [
       "<Figure size 432x288 with 1 Axes>"
      ]
     },
     "metadata": {
      "needs_background": "light"
     },
     "output_type": "display_data"
    }
   ],
   "source": [
    "plt.plot(np.linspace(0, 100), a * np.linspace(0, 100) ** b, '-');"
   ]
  },
  {
   "cell_type": "code",
   "execution_count": null,
   "id": "bb94e030-e58d-4bbe-be1d-2c4485b77d30",
   "metadata": {},
   "outputs": [],
   "source": []
  }
 ],
 "metadata": {
  "kernelspec": {
   "display_name": "Python [conda env:miniconda3-metabolic]",
   "language": "python",
   "name": "conda-env-miniconda3-metabolic-py"
  },
  "language_info": {
   "codemirror_mode": {
    "name": "ipython",
    "version": 3
   },
   "file_extension": ".py",
   "mimetype": "text/x-python",
   "name": "python",
   "nbconvert_exporter": "python",
   "pygments_lexer": "ipython3",
   "version": "3.7.12"
  }
 },
 "nbformat": 4,
 "nbformat_minor": 5
}
